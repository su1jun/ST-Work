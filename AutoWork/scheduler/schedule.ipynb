{
 "cells": [
  {
   "cell_type": "code",
   "execution_count": 41,
   "metadata": {},
   "outputs": [],
   "source": [
    "import requests\n",
    "from bs4 import BeautifulSoup\n",
    "import pandas as pd\n",
    "from openpyxl import load_workbook\n",
    "\n",
    "dfs = []\n",
    "\n",
    "date_range = {\n",
    "    '2023' : [str(i) for i in range(11, 13)],\n",
    "    '2024' : [str(i) for i in range(1, 13)],\n",
    "    '2025' : [str(i) for i in range(1, 3)],\n",
    "}\n",
    "\n",
    "urls = [\n",
    "    'https://www.seoultech.ac.kr/life/sch/common/',\n",
    "    'https://www.seoultech.ac.kr/life/sch/grad/',\n",
    "    'https://en.seoultech.ac.kr/acad/under/schedule/',\n",
    "    'https://en.seoultech.ac.kr/acad/graduate/schedule/',\n",
    "    'https://cn.seoultech.ac.kr/acad/under/schedule/',\n",
    "    'https://cn.seoultech.ac.kr/acad/graduate/schedule/',\n",
    "]\n",
    "\n",
    "for i in range(6):\n",
    "    data = []\n",
    "    for year in date_range:\n",
    "        for month in date_range[year]:\n",
    "            # 웹사이트 URL\n",
    "            querystring = f'?mon={month}&year={year}'\n",
    "            url = urls[i] + querystring\n",
    "            # 요청 및 응답 받기\n",
    "            response = requests.get(url)\n",
    "            soup = BeautifulSoup(response.text, 'html.parser')\n",
    "\n",
    "            # 일정표 데이터 추출 (예: 테이블 형태의 데이터)\n",
    "            table = soup.find('table', {'class': 'schedule'})\n",
    "            rows = table.find_all('tr')\n",
    "\n",
    "            date = soup.find('span', {'class': 'day'})\n",
    "            date = date.text.strip()\n",
    "\n",
    "            # 데이터 정제\n",
    "            check = 0\n",
    "            for row in rows[1:]:\n",
    "                if row:\n",
    "                    if check:\n",
    "                        cols = row.find_all('td')\n",
    "                        cols = [ele.text.strip() for ele in cols]\n",
    "                        data.append([''] + [ele for ele in cols if ele])\n",
    "                    else:\n",
    "                        cols = row.find_all('td')\n",
    "                        cols = [ele.text.strip() for ele in cols]\n",
    "                        data.append([date] + [ele for ele in cols if ele])\n",
    "                        check = 1\n",
    "            # data.append(['', '', ''])\n",
    "\n",
    "    # DataFrame 생성\n",
    "    df = pd.DataFrame(data, columns=['date', 'date_range', 'text'])\n",
    "    dfs.append(df)"
   ]
  },
  {
   "cell_type": "code",
   "execution_count": 42,
   "metadata": {},
   "outputs": [
    {
     "data": {
      "text/html": [
       "<div>\n",
       "<style scoped>\n",
       "    .dataframe tbody tr th:only-of-type {\n",
       "        vertical-align: middle;\n",
       "    }\n",
       "\n",
       "    .dataframe tbody tr th {\n",
       "        vertical-align: top;\n",
       "    }\n",
       "\n",
       "    .dataframe thead th {\n",
       "        text-align: right;\n",
       "    }\n",
       "</style>\n",
       "<table border=\"1\" class=\"dataframe\">\n",
       "  <thead>\n",
       "    <tr style=\"text-align: right;\">\n",
       "      <th></th>\n",
       "      <th>date</th>\n",
       "      <th>date_range</th>\n",
       "      <th>text</th>\n",
       "    </tr>\n",
       "  </thead>\n",
       "  <tbody>\n",
       "    <tr>\n",
       "      <th>0</th>\n",
       "      <td>2023.11</td>\n",
       "      <td>2023.11.03 ~ 11.03</td>\n",
       "      <td>第一次毕业综合考试合格者公布（大学）</td>\n",
       "    </tr>\n",
       "    <tr>\n",
       "      <th>1</th>\n",
       "      <td></td>\n",
       "      <td>2023.11.03 ~ 11.03</td>\n",
       "      <td>第二次追加更正预算财政委员会（暂定）</td>\n",
       "    </tr>\n",
       "    <tr>\n",
       "      <th>2</th>\n",
       "      <td></td>\n",
       "      <td>2023.11.13 ~ 11.13</td>\n",
       "      <td>第二学期授课天数2/3线（参军入伍成绩）</td>\n",
       "    </tr>\n",
       "    <tr>\n",
       "      <th>3</th>\n",
       "      <td></td>\n",
       "      <td>2023.11.13 ~ 11.17</td>\n",
       "      <td>2023学年度前期学位论文审查预定者登记及论文审查委员推荐</td>\n",
       "    </tr>\n",
       "    <tr>\n",
       "      <th>4</th>\n",
       "      <td></td>\n",
       "      <td>2023.11.16 ~ 11.16</td>\n",
       "      <td>2024学年度大学入学考试</td>\n",
       "    </tr>\n",
       "    <tr>\n",
       "      <th>...</th>\n",
       "      <td>...</td>\n",
       "      <td>...</td>\n",
       "      <td>...</td>\n",
       "    </tr>\n",
       "    <tr>\n",
       "      <th>94</th>\n",
       "      <td></td>\n",
       "      <td>2025.02.21 ~ 02.28</td>\n",
       "      <td>2025学年度新生补录（文件受理~合格者公布）</td>\n",
       "    </tr>\n",
       "    <tr>\n",
       "      <th>95</th>\n",
       "      <td></td>\n",
       "      <td>2025.02.24 ~ 02.24</td>\n",
       "      <td>2025学年度第一学期开课</td>\n",
       "    </tr>\n",
       "    <tr>\n",
       "      <th>96</th>\n",
       "      <td></td>\n",
       "      <td>2025.02.24 ~ 02.26</td>\n",
       "      <td>2025学年度第一学期在校生、复学生上课申请时间，接收复学材料时间</td>\n",
       "    </tr>\n",
       "    <tr>\n",
       "      <th>97</th>\n",
       "      <td></td>\n",
       "      <td>2025.02.24 ~ 02.28</td>\n",
       "      <td>2025学年度第1学期选课确认及修改时间</td>\n",
       "    </tr>\n",
       "    <tr>\n",
       "      <th>98</th>\n",
       "      <td></td>\n",
       "      <td>2025.02.28 ~ 02.28</td>\n",
       "      <td>2024财政年度大学会计 结束（会计年度结束）</td>\n",
       "    </tr>\n",
       "  </tbody>\n",
       "</table>\n",
       "<p>99 rows × 3 columns</p>\n",
       "</div>"
      ],
      "text/plain": [
       "       date          date_range                               text\n",
       "0   2023.11  2023.11.03 ~ 11.03                 第一次毕业综合考试合格者公布（大学）\n",
       "1            2023.11.03 ~ 11.03                 第二次追加更正预算财政委员会（暂定）\n",
       "2            2023.11.13 ~ 11.13               第二学期授课天数2/3线（参军入伍成绩）\n",
       "3            2023.11.13 ~ 11.17      2023学年度前期学位论文审查预定者登记及论文审查委员推荐\n",
       "4            2023.11.16 ~ 11.16                      2024学年度大学入学考试\n",
       "..      ...                 ...                                ...\n",
       "94           2025.02.21 ~ 02.28            2025学年度新生补录（文件受理~合格者公布）\n",
       "95           2025.02.24 ~ 02.24                      2025学年度第一学期开课\n",
       "96           2025.02.24 ~ 02.26  2025学年度第一学期在校生、复学生上课申请时间，接收复学材料时间\n",
       "97           2025.02.24 ~ 02.28               2025学年度第1学期选课确认及修改时间\n",
       "98           2025.02.28 ~ 02.28            2024财政年度大学会计 结束（会计年度结束）\n",
       "\n",
       "[99 rows x 3 columns]"
      ]
     },
     "execution_count": 42,
     "metadata": {},
     "output_type": "execute_result"
    }
   ],
   "source": [
    "dfs[4]"
   ]
  },
  {
   "cell_type": "code",
   "execution_count": 44,
   "metadata": {},
   "outputs": [],
   "source": [
    "sheetnames = [\n",
    "    '대학일정',\n",
    "    '대학원일정',\n",
    "    '대학일정(영문)',\n",
    "    '대학원일정(영문)',\n",
    "    '대학일정(중문)',\n",
    "    '대학원일정(중문)',\n",
    "]\n",
    "\n",
    "# 엑셀 파일로 저장\n",
    "path = 'schedules.xlsx'\n",
    "\n",
    "# ExcelWriter 객체 생성\n",
    "with pd.ExcelWriter(path, engine='openpyxl') as writer:\n",
    "    for i in range(6):\n",
    "        dfs[i].to_excel(writer, sheet_name=sheetnames[i], index=False)"
   ]
  },
  {
   "cell_type": "code",
   "execution_count": 45,
   "metadata": {},
   "outputs": [],
   "source": [
    "import openpyxl as op\n",
    "from openpyxl.styles import Alignment\n",
    "from openpyxl.utils import get_column_letter\n",
    "from openpyxl.styles import PatternFill\n",
    "\n",
    "wb = op.load_workbook(path)\n",
    "\n",
    "cols_width = [10, 30, 80]\n",
    "\n",
    "for ws in wb:  # 모든 시트 순회\n",
    "    for i in range(3):  # 첫 세 열에 대해서만 반복\n",
    "        column_letter = get_column_letter(i + 1)  # 열 번호를 열 문자로 변환\n",
    "        ws.column_dimensions[column_letter].width = cols_width[i]  # 열 너비 설정\n",
    "\n",
    "    for row in ws.iter_rows(min_row=2, max_col=3, max_row=ws.max_row):\n",
    "        for cell in row:\n",
    "            cell.alignment = Alignment(horizontal='center', vertical='center', wrap_text=True)\n",
    "        \n",
    "wb.save(path)"
   ]
  },
  {
   "cell_type": "code",
   "execution_count": 4,
   "metadata": {},
   "outputs": [
    {
     "data": {
      "text/plain": [
       "<span class=\"day\">2023.11</span>"
      ]
     },
     "execution_count": 4,
     "metadata": {},
     "output_type": "execute_result"
    }
   ],
   "source": [
    "date = soup.find('span', {'class': 'day'})\n",
    "date = date.text.strip()\n",
    "#dir(date)\n"
   ]
  },
  {
   "cell_type": "code",
   "execution_count": 6,
   "metadata": {},
   "outputs": [
    {
     "data": {
      "text/plain": [
       "'2023.11'"
      ]
     },
     "execution_count": 6,
     "metadata": {},
     "output_type": "execute_result"
    }
   ],
   "source": [
    "cols = date.text.strip()"
   ]
  },
  {
   "cell_type": "code",
   "execution_count": null,
   "metadata": {},
   "outputs": [],
   "source": []
  },
  {
   "cell_type": "code",
   "execution_count": null,
   "metadata": {},
   "outputs": [],
   "source": []
  },
  {
   "cell_type": "code",
   "execution_count": null,
   "metadata": {},
   "outputs": [],
   "source": []
  },
  {
   "cell_type": "code",
   "execution_count": null,
   "metadata": {},
   "outputs": [],
   "source": []
  },
  {
   "cell_type": "code",
   "execution_count": null,
   "metadata": {},
   "outputs": [],
   "source": []
  },
  {
   "cell_type": "code",
   "execution_count": null,
   "metadata": {},
   "outputs": [],
   "source": []
  },
  {
   "cell_type": "code",
   "execution_count": null,
   "metadata": {},
   "outputs": [],
   "source": []
  },
  {
   "cell_type": "code",
   "execution_count": null,
   "metadata": {},
   "outputs": [],
   "source": []
  },
  {
   "cell_type": "code",
   "execution_count": null,
   "metadata": {},
   "outputs": [],
   "source": []
  }
 ],
 "metadata": {
  "kernelspec": {
   "display_name": "base",
   "language": "python",
   "name": "python3"
  },
  "language_info": {
   "codemirror_mode": {
    "name": "ipython",
    "version": 3
   },
   "file_extension": ".py",
   "mimetype": "text/x-python",
   "name": "python",
   "nbconvert_exporter": "python",
   "pygments_lexer": "ipython3",
   "version": "3.11.4"
  }
 },
 "nbformat": 4,
 "nbformat_minor": 2
}
